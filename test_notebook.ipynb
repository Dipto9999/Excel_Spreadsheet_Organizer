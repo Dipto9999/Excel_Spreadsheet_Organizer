{
 "cells": [
  {
   "cell_type": "code",
   "execution_count": 1,
   "metadata": {},
   "outputs": [],
   "source": [
    "# Import Library for Writing to Excel Spreadsheet.\n",
    "from openpyxl import load_workbook\n",
    "# Import Library for Accessing XML File.\n",
    "import xml.etree.ElementTree as ET\n",
    "# Deal with Tabular Data using Pandas Library.\n",
    "import pandas as pd"
   ]
  },
  {
   "cell_type": "code",
   "execution_count": 2,
   "metadata": {},
   "outputs": [],
   "source": [
    "raw_dataframe = pd.read_excel('test_excel_1.xlsx')"
   ]
  },
  {
   "cell_type": "code",
   "execution_count": 3,
   "metadata": {},
   "outputs": [],
   "source": [
    "# This function shortens an id from the Excel file.\n",
    "def shorten_id(original_column) :\n",
    "    length_to_cut = len('Delete Account ')\n",
    "    length_total = len(original_column)\n",
    "    truncated_column = original_column[length_to_cut: length_total]\n",
    "\n",
    "    return truncated_column"
   ]
  },
  {
   "cell_type": "code",
   "execution_count": 4,
   "metadata": {},
   "outputs": [],
   "source": [
    "raw_dataframe['Col1'] = raw_dataframe['Col1'].apply(shorten_id)"
   ]
  },
  {
   "cell_type": "code",
   "execution_count": 5,
   "metadata": {},
   "outputs": [],
   "source": [
    "id_series = raw_dataframe['Col1']\n",
    "submission_date_series = raw_dataframe['Col5']\n",
    "due_date_series = raw_dataframe['Col6'] "
   ]
  },
  {
   "cell_type": "code",
   "execution_count": 6,
   "metadata": {},
   "outputs": [],
   "source": [
    "tree = ET.parse('test_xml.xml')"
   ]
  },
  {
   "cell_type": "code",
   "execution_count": 7,
   "metadata": {},
   "outputs": [],
   "source": [
    "root = tree.getroot()"
   ]
  },
  {
   "cell_type": "code",
   "execution_count": 8,
   "metadata": {},
   "outputs": [],
   "source": [
    "role_column = []\n",
    "organized_role_column = []\n",
    "xml_ids = []"
   ]
  },
  {
   "cell_type": "code",
   "execution_count": 9,
   "metadata": {},
   "outputs": [],
   "source": [
    "def shorten_role(original_column) :\n",
    "    length_to_cut = len('Role=')\n",
    "    length_total = len(original_column)\n",
    "    truncated_column = original_column[length_to_cut: length_total]\n",
    "\n",
    "    return truncated_column"
   ]
  },
  {
   "cell_type": "code",
   "execution_count": 10,
   "metadata": {},
   "outputs": [],
   "source": [
    "# Iterate through XML file to filter and organize relevant information.\n",
    "for account in root.iter('account') :\n",
    "    id = account.get('id', default = None)\n",
    "    \n",
    "    for i in range(id_series.size) :\n",
    "        # If ID is found in the ID series, execute code.\n",
    "        if (id == id_series[i]) :\n",
    "            # Add this unordered ID to the list.\n",
    "            xml_ids.append(id)\n",
    "            ## The following lines are commented out -> used for debugging loop.\n",
    "            ## print(id)\n",
    "            ## print(id_series[i])\n",
    "            ## print('\\n')\n",
    "\n",
    "            # Assign role column to have the role information.\n",
    "            for attribute in account.iter('attribute') :\n",
    "                ## The following lines are commented out -> used for debugging loop.\n",
    "                ## print(attribute.attrib)\n",
    "                ## print('\\n')\n",
    "\n",
    "                if attribute.get('name') == 'Role' :\n",
    "                    attributeValueRef_id = str()\n",
    "\n",
    "                    for attributeValueRef in attribute.iter('attributeValueRef') :\n",
    "                        ## The following line is commented out -> used for debugging loop.\n",
    "                        ## print(attributeValueRef.attrib)\n",
    "                        \n",
    "                        # Remove the 'Role=' using the custom function before acquiring the information.\n",
    "                        attributeValueRef_id += shorten_role(attributeValueRef.get('id')) + ' \\n'\n",
    "                    # Append each string to the list if the ID is found in the ID series.\n",
    "                    role_column.append(attributeValueRef_id)\n",
    "\n",
    "                    ## The following lines are commented out -> used for debugging loop.\n",
    "                    ## print('\\n')\n",
    "                    ## print(role_column)\n",
    "                    ## print('\\n')\n",
    "\n",
    "# Organize role column to match the ordered ID series.\n",
    "for organized_index in range(id_series.size) :\n",
    "    ## The following lines are commented out -> used for debugging loop. \n",
    "    ## print(organized_index)\n",
    "    ## print(id_series[organized_index])\n",
    "    ## print('\\n')\n",
    "\n",
    "    # Add an empty string to end of list to account for IDs with blank roles.\n",
    "    organized_role_column.append('')\n",
    "    for unorganized_index in range(len(xml_ids)) :\n",
    "        ## The following lines are commented out -> used for debugging loop. \n",
    "        ## print(unorganized_index)\n",
    "        ## print(xml_ids[unorganized_index])\n",
    "        ## print('\\n')   \n",
    "        \n",
    "        if (id_series[organized_index] == xml_ids[unorganized_index]) :\n",
    "            # Replace empty string for IDs with roles in the XML file.\n",
    "            organized_role_column.insert(organized_index, (role_column[unorganized_index]))\n",
    "    "
   ]
  },
  {
   "cell_type": "code",
   "execution_count": 11,
   "metadata": {
    "tags": []
   },
   "outputs": [
    {
     "output_type": "stream",
     "name": "stdout",
     "text": [
      "['ABCDEFG \\nHIJKLMN \\n', 'LMNOPQRST \\n', 'DSDSDSDSD \\n', '******** \\n', 'AQSDEWBBB \\n', '', '', '', '', '']\n"
     ]
    }
   ],
   "source": [
    "print(organized_role_column)"
   ]
  },
  {
   "cell_type": "code",
   "execution_count": 12,
   "metadata": {},
   "outputs": [],
   "source": [
    "organized_role_series = pd.DataFrame(organized_role_column)"
   ]
  },
  {
   "cell_type": "code",
   "execution_count": 13,
   "metadata": {},
   "outputs": [],
   "source": [
    "combined_dataframe = pd.concat([id_series, organized_role_series, submission_date_series, due_date_series], axis = 1)"
   ]
  },
  {
   "cell_type": "code",
   "execution_count": 14,
   "metadata": {},
   "outputs": [],
   "source": [
    "combined_dataframe.rename(columns = {'Col1' : 'ID', 0 : 'Role Information', 'Col5' : 'Submission Date', 'Col6' : 'Due Date'}, inplace = True)"
   ]
  },
  {
   "cell_type": "code",
   "execution_count": 15,
   "metadata": {
    "tags": []
   },
   "outputs": [
    {
     "output_type": "stream",
     "name": "stdout",
     "text": [
      "       ID      Role Information     Submission Date            Due Date\n0  ASDVF5  ABCDEFG \\nHIJKLMN \\n 2020-08-06 08:28:00 2020-08-11 08:28:00\n1  ABCDE5          LMNOPQRST \\n 2020-08-06 09:30:00 2020-08-11 09:30:00\n2  MNOPQ4          DSDSDSDSD \\n 2020-08-06 09:39:00 2020-08-11 09:39:00\n3  XTGSD2           ******** \\n 2020-08-06 09:50:00 2020-08-11 09:50:00\n4  XYZRF2          AQSDEWBBB \\n 2020-08-06 09:50:00 2020-08-11 09:50:00\n5     NaN                                       NaT                 NaT\n6     NaN                                       NaT                 NaT\n7     NaN                                       NaT                 NaT\n8     NaN                                       NaT                 NaT\n9     NaN                                       NaT                 NaT\n"
     ]
    }
   ],
   "source": [
    "print(combined_dataframe)"
   ]
  },
  {
   "cell_type": "code",
   "execution_count": 16,
   "metadata": {},
   "outputs": [],
   "source": [
    "writer = pd.ExcelWriter('test_excel_2.xlsx', engine = 'xlsxwriter')"
   ]
  },
  {
   "cell_type": "code",
   "execution_count": 17,
   "metadata": {},
   "outputs": [],
   "source": [
    "combined_dataframe.to_excel(writer,\n",
    "             sheet_name ='organized_sheet') "
   ]
  },
  {
   "cell_type": "code",
   "execution_count": 18,
   "metadata": {},
   "outputs": [],
   "source": [
    "writer.save()"
   ]
  },
  {
   "cell_type": "code",
   "execution_count": 19,
   "metadata": {},
   "outputs": [
    {
     "output_type": "stream",
     "name": "stderr",
     "text": [
      "C:\\Users\\Muntakim\\AppData\\Local\\Programs\\Python\\Python38-32\\lib\\site-packages\\xlsxwriter\\workbook.py:338: UserWarning: Calling close() on already closed file.\n  warn(\"Calling close() on already closed file.\")\n"
     ]
    }
   ],
   "source": [
    "writer.close()"
   ]
  }
 ],
 "metadata": {
  "kernelspec": {
   "name": "python3",
   "display_name": "Python 3.8.6 32-bit"
  },
  "language_info": {
   "codemirror_mode": {
    "name": "ipython",
    "version": 3
   },
   "file_extension": ".py",
   "mimetype": "text/x-python",
   "name": "python",
   "nbconvert_exporter": "python",
   "pygments_lexer": "ipython3",
   "version": "3.8.6"
  },
  "interpreter": {
   "hash": "ccbfd18ffe2ed7a304e124dd5c4926bb0ce32d27abc45b5b38cf8edbd938df1a"
  }
 },
 "nbformat": 4,
 "nbformat_minor": 4
}